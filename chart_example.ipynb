{
 "cells": [
  {
   "cell_type": "code",
   "execution_count": 1,
   "id": "654508e4-1e37-4996-a813-6f12194aab81",
   "metadata": {},
   "outputs": [],
   "source": [
    "from pie import pie\n",
    "from line import line"
   ]
  },
  {
   "cell_type": "code",
   "execution_count": 2,
   "id": "cd21d829-4edf-4ac1-a891-0c84e5a06c31",
   "metadata": {},
   "outputs": [
    {
     "name": "stdout",
     "output_type": "stream",
     "text": [
      "================남녀 인원 분포================\n",
      "\n",
      " ·███████···███████· \n",
      " ·███████···███████· \n",
      " ·██████·   ·██████· \n",
      " ██████··   ··██████ \n",
      "·██████·     ·██████·\n",
      "·██████·     ·██████·\n",
      "·██████·     ·██████·\n",
      "·██████·     ·██████·\n",
      "·██████       ██████·\n",
      "· 남 30 (85.7%) █████·\n",
      "·█████·       ·█████·\n",
      "·█████· 여 5 (14.3%) ·\n",
      "·██████       ██████·\n",
      "·██████·     ·██████·\n",
      "·██████·     ·██████·\n",
      "·██████·     ·██████·\n",
      "·██████·     ·██████·\n",
      " ██████··   ··██████ \n",
      " ·█████░·   ·██████· \n",
      " ·████░░░···███████· \n",
      " ·████░░░···███████· \n",
      "█ 남 30 (85.7%) | ░ 여 5 (14.3%)\n"
     ]
    }
   ],
   "source": [
    "# 파이 차트\n",
    "# 사용 예시\n",
    "labels = [\"남\",\"여\"]\n",
    "counts = [30,5]\n",
    "\n",
    "print(pie(labels, counts,\n",
    "                      radius=10, hole=0.35,\n",
    "                      y_scale=2.6, samples=4,\n",
    "                      label_mode=\"both\",\n",
    "                      title=\"남녀 인원 분포\"))"
   ]
  },
  {
   "cell_type": "code",
   "execution_count": 3,
   "id": "cdbf04d2-e2a2-466f-87c9-f48f6f9d6474",
   "metadata": {},
   "outputs": [
    {
     "name": "stdout",
     "output_type": "stream",
     "text": [
      "=========응답 추세 (robust)=========\n",
      "\n",
      "  1.00 |                 ●·^ \n",
      "  0.89 |               ●·    \n",
      "  0.78 |     ■·      ●·      \n",
      "  0.67 |   ■·  ■   ●·        \n",
      "  0.56 |   ·    · ·          \n",
      "  0.44 |  ·      *·          \n",
      "  0.33 | ·     ●·  ■·        \n",
      "  0.22 | ■   ●·      ■·      \n",
      "  0.11 |   ●·          ■·  ■ \n",
      "  0.00 | ●·              ■·  \n",
      "       --------------------\n",
      "       1 2 3 4 5 6 7 8 910 \n",
      "● A | ■ B\n",
      "robust q=[5%,95%] -> [1,9.05]\n",
      "@10: A=10 | B=2\n"
     ]
    }
   ],
   "source": [
    "series = {\n",
    "    \"A\":[1,2,3,4,5,6,7,8,9,10],\n",
    "    \"B\":[3,6,7,6,5,4,3,2,1,2]\n",
    "}\n",
    "print(line(\n",
    "    series,\n",
    "    max_height=10,\n",
    "    x_labels=[\"1\",\"2\",\"3\",\"4\",\"5\",\"6\",\"7\",\"8\",\"9\",\"10\"],\n",
    "    title=\"응답 추세 (robust)\",\n",
    "    scale=\"robust\", robust_quantiles=(0.05, 0.95),\n",
    "    draw_lines=True, show_y_axis=True, overlap_mode=\"mark\",\n",
    "    show_clipped=True, clip_mark=\"^\"   # 절단된 점을 ^로 표시\n",
    "))"
   ]
  },
  {
   "cell_type": "code",
   "execution_count": 4,
   "id": "01ecfa4b-5358-4e50-b7b7-5b396275a2ca",
   "metadata": {},
   "outputs": [
    {
     "name": "stdout",
     "output_type": "stream",
     "text": [
      "===성별 vs 만족도====\n",
      "\n",
      "     좋음 보통 나쁨\n",
      "남    · ▓  \n",
      "여    ░   ▒\n",
      "기타     █ ░\n"
     ]
    }
   ],
   "source": [
    "from heatmap import heatmap\n",
    "matrix = [\n",
    "    [5, 10, 3],\n",
    "    [7, 2, 8],\n",
    "    [1, 12, 6]\n",
    "]\n",
    "row_labels = [\"남\", \"여\", \"기타\"]\n",
    "col_labels = [\"좋음\", \"보통\", \"나쁨\"]\n",
    "title = \"성별 vs 만족도\"\n",
    "\n",
    "print(heatmap(matrix, row_labels=row_labels, col_labels=col_labels, title=title))"
   ]
  },
  {
   "cell_type": "code",
   "execution_count": 5,
   "id": "de2fd026-5b41-4f24-b371-9dd2d937aeee",
   "metadata": {},
   "outputs": [
    {
     "name": "stdout",
     "output_type": "stream",
     "text": [
      "======================응답 완료율======================\n",
      "\n",
      "[████████████████████████░░░░░░░░░░░░░░░░] 60.0% (72/120)\n"
     ]
    }
   ],
   "source": [
    "from progress import progress\n",
    "\n",
    "title=\"응답 완료율\"\n",
    "print(progress(72, 120, width=40, title=title))"
   ]
  },
  {
   "cell_type": "code",
   "execution_count": 6,
   "id": "e4cc5a3a-7cbd-4adf-ab42-a247124d2907",
   "metadata": {},
   "outputs": [],
   "source": [
    "from bars import bar_horizontal, bar_vertical, stacked_bar"
   ]
  },
  {
   "cell_type": "code",
   "execution_count": 7,
   "id": "2b26b132-625e-4d8e-a824-5756194c0c18",
   "metadata": {},
   "outputs": [
    {
     "name": "stdout",
     "output_type": "stream",
     "text": [
      "==========================남녀 인원 분포==========================\n",
      "\n",
      "남 30 (54.5%)    | ██████████████████████\n",
      "여 25 (45.5%)    | ██████████████████\n",
      "█ 남 | █ 여\n"
     ]
    }
   ],
   "source": [
    "labels = [\"남\", \"여\"]\n",
    "counts = [30, 25]\n",
    "title = \"남녀 인원 분포\"\n",
    "\n",
    "print(bar_horizontal(labels, counts, width=40, title=title, glyphs=[\"█\",\"█\"]))"
   ]
  },
  {
   "cell_type": "code",
   "execution_count": 8,
   "id": "0815120a-f054-4f66-abfc-efd0b0fdae8a",
   "metadata": {},
   "outputs": [
    {
     "name": "stdout",
     "output_type": "stream",
     "text": [
      "===========남녀 인원 분포==========\n",
      "\n",
      "\n",
      "\n",
      "\n",
      "\n",
      "\n",
      "██\n",
      "██ ▲▲\n",
      "██ ▲▲\n",
      "██ ▲▲ aa\n",
      "██ ▲▲ aa\n",
      "46%38%15%\n",
      " 30 25 10\n",
      " 남  여  중성\n",
      "█ 남 | ▲ 여 | a 중성\n"
     ]
    }
   ],
   "source": [
    "labels = [\"남\", \"여\", \"중성\"]\n",
    "counts = [30, 25, 10]\n",
    "glyphs = [\"█\", \"▲\", \"a\"]  # 남=꽉찬 네모, 여=세모\n",
    "title = \"남녀 인원 분포\"\n",
    "\n",
    "print(bar_vertical(labels, counts, max_height=10, glyphs=glyphs, title=\"남녀 인원 분포\"))"
   ]
  },
  {
   "cell_type": "code",
   "execution_count": 9,
   "id": "2f43c7e7-63e8-43b0-a68f-333b49ec6b1f",
   "metadata": {},
   "outputs": [
    {
     "name": "stdout",
     "output_type": "stream",
     "text": [
      "===========================만족도 분포===========================\n",
      "\n",
      "남          | █████████████■■■■■■■■■■■■■■■■■■■■▲▲▲▲▲▲▲\n",
      "여          | ███████████████████■■■■■■■■■■■■■▲▲▲▲▲▲▲▲\n",
      "█ 좋음 | ■ 보통 | ▲ 나쁨\n"
     ]
    }
   ],
   "source": [
    "labels = [\"남\", \"여\"]\n",
    "counts_list = [[10, 15, 5], [12, 8, 5]]  # 각 라벨별 3가지 항목\n",
    "sublabels = [\"좋음\", \"보통\", \"나쁨\"]\n",
    "title = \"만족도 분포\"\n",
    "\n",
    "print(stacked_bar(labels, counts_list, sublabels=sublabels, title=title))"
   ]
  },
  {
   "cell_type": "code",
   "execution_count": null,
   "id": "af24a13a-cb12-4a09-9f51-5526947b8317",
   "metadata": {},
   "outputs": [],
   "source": []
  },
  {
   "cell_type": "code",
   "execution_count": 10,
   "id": "993a93ee-e34e-41e2-bc0e-a2f5753fffd4",
   "metadata": {},
   "outputs": [],
   "source": [
    "from progress import progress, progress_multi"
   ]
  },
  {
   "cell_type": "code",
   "execution_count": 14,
   "id": "ca081faa-f28d-4967-86c8-9c4e3babcd24",
   "metadata": {},
   "outputs": [
    {
     "name": "stdout",
     "output_type": "stream",
     "text": [
      "======================응답 완료율======================\n",
      "\n",
      "[█████████████████████████████░░░░░░░░░░░] 72.0% (72/100)\n"
     ]
    }
   ],
   "source": [
    "print(progress(72, 100, width=40, title=\"응답 완료율\"))"
   ]
  },
  {
   "cell_type": "code",
   "execution_count": 11,
   "id": "d679cbb5-268e-4978-8239-6ae154fade71",
   "metadata": {},
   "outputs": [
    {
     "name": "stdout",
     "output_type": "stream",
     "text": [
      "=================Cluster Completion================\n",
      "\n",
      "[████████████████░░░░░░░░]  68.8% (55/80)\n",
      "[███████░░░░░░░░░░░░░░░░░] 30.0% (30/100)\n",
      "[██████░░░░░░░░░░░░░░░░░░]  25.0% (10/40)\n"
     ]
    }
   ],
   "source": [
    "# 1) 딕셔너리 입력 + 오른쪽 메타\n",
    "print(progress_multi(\n",
    "    {\"Cluster A\": (30, 100), \"Cluster B\": (55, 80), \"Cluster C\": (10, 40)},\n",
    "    width=24, label_side=\"right\", title=\"Cluster Completion\", sort=\"desc\"\n",
    "))"
   ]
  },
  {
   "cell_type": "code",
   "execution_count": 12,
   "id": "103f15c1-a042-4f93-81c9-4d635fc3f75e",
   "metadata": {},
   "outputs": [
    {
     "name": "stdout",
     "output_type": "stream",
     "text": [
      "=============Experiment Progress=============\n",
      "\n",
      "Exp-1 [▓▓▓▓▓▓▓▓▓▓▓▓▓▓▓▓▓▓░░]  90.0%\n",
      "Exp-2 [███████░░░░░░░░░░░░░]  35.0%\n",
      "Exp-3 [■■■■■■■■■■■■■■■■■■■■] 100.0%\n"
     ]
    }
   ],
   "source": [
    "# 2) 튜플 리스트 입력 + 왼쪽 라벨 + 양쪽 표시\n",
    "print(progress_multi(\n",
    "    [(\"Exp-1\", 18, 20), (\"Exp-2\", 7, 20), (\"Exp-3\", 20, 20)],\n",
    "    width=20, label_side=\"both\", show_percent=True, show_fraction=False,\n",
    "    per_item_chars=[\"▓\", \"█\", \"■\"], title=\"Experiment Progress\"\n",
    "))\n"
   ]
  }
 ],
 "metadata": {
  "kernelspec": {
   "display_name": "Python 3 (ipykernel)",
   "language": "python",
   "name": "python3"
  },
  "language_info": {
   "codemirror_mode": {
    "name": "ipython",
    "version": 3
   },
   "file_extension": ".py",
   "mimetype": "text/x-python",
   "name": "python",
   "nbconvert_exporter": "python",
   "pygments_lexer": "ipython3",
   "version": "3.10.13"
  }
 },
 "nbformat": 4,
 "nbformat_minor": 5
}
